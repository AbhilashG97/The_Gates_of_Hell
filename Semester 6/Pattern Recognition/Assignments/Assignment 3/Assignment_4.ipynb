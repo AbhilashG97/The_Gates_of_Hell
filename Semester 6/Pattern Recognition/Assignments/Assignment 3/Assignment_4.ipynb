{
  "nbformat": 4,
  "nbformat_minor": 0,
  "metadata": {
    "colab": {
      "name": "Assignment 4",
      "version": "0.3.2",
      "provenance": [],
      "collapsed_sections": []
    },
    "kernelspec": {
      "name": "python3",
      "display_name": "Python 3"
    }
  },
  "cells": [
    {
      "metadata": {
        "id": "i_-zrfS2Nehy",
        "colab_type": "text"
      },
      "cell_type": "markdown",
      "source": [
        "# Assignment 4\n",
        "\n",
        "## Task 1\n",
        "\n",
        "The first task has the following sub-tasks - \n",
        "\n",
        "1.  Use the 75% of the Fischer Iris dataset to train a K-Means based classifier.        Use user defined function for K means clustering. \n",
        "1. Test and report the accuracy of the model using the remaining 25% data.\n",
        "1. Perform the above mentioned using builtin function for k-means clustering.\n",
        "1. Write a note on the possible good methods in the literature to assume number of clusters (k) from given data if it unknown."
      ]
    },
    {
      "metadata": {
        "id": "wd2Nli_sPofL",
        "colab_type": "text"
      },
      "cell_type": "markdown",
      "source": [
        "### Subtask 1\n",
        "\n",
        "We start by importing relavant python libraries. The Iris dataset is present in the sklearn library and it can be directly taken from there."
      ]
    },
    {
      "metadata": {
        "id": "CA6pWwkuhvlt",
        "colab_type": "code",
        "colab": {}
      },
      "cell_type": "code",
      "source": [
        "import pandas as pd\n",
        "import numpy as py\n",
        "import matplotlib.pyplot as plt\n",
        "import seaborn as sns\n",
        "from sklearn import datasets\n",
        "from sklearn.cluster import KMeans\n",
        "from sklearn.preprocessing import LabelEncoder\n",
        "from sklearn.preprocessing import MinMaxScaler"
      ],
      "execution_count": 0,
      "outputs": []
    },
    {
      "metadata": {
        "id": "Zm7emVpnQCVK",
        "colab_type": "text"
      },
      "cell_type": "markdown",
      "source": [
        "After relavent libraries are imported the data is downloaded and examined."
      ]
    },
    {
      "metadata": {
        "id": "1V1rqHgEbAdS",
        "colab_type": "code",
        "colab": {}
      },
      "cell_type": "code",
      "source": [
        "iris = datasets.load_iris()"
      ],
      "execution_count": 0,
      "outputs": []
    },
    {
      "metadata": {
        "id": "Cqnl8dDhQTDC",
        "colab_type": "text"
      },
      "cell_type": "markdown",
      "source": [
        "**About the data:**\n",
        "\n",
        "The data set contains 3 classes of 50 instances each, where each class refers to a type of iris plant.\n",
        "\n",
        "```Number of Attributes:``` 4 numeric, predictive attributes and the class\n",
        "\n",
        "**Attribute Information:**\n",
        "\n",
        "1. sepal length in ```cm```\n",
        "2. sepal width in ```cm```\n",
        "3. petal length in ```cm```\n",
        "4. petal width in ```cm```\n",
        "5. class: \n",
        "    1. Iris Setosa (Represented by 0)\n",
        "    1. Iris Versicolour (Represented by 1)\n",
        "    1. Iris Virginica (Represented by 2)"
      ]
    },
    {
      "metadata": {
        "id": "01UiERIuRi_Z",
        "colab_type": "text"
      },
      "cell_type": "markdown",
      "source": [
        "### Scatter Plot\n",
        "\n",
        "To better understand the data, a simple ```Scatter Plot``` is plotted for the sepal length and width."
      ]
    },
    {
      "metadata": {
        "id": "8UMwva5rSau6",
        "colab_type": "code",
        "colab": {
          "base_uri": "https://localhost:8080/",
          "height": 309
        },
        "outputId": "85b4bd24-eb4a-4dce-ea83-98ad058abf8c"
      },
      "cell_type": "code",
      "source": [
        "X = iris.data[:, 2:4]\n",
        "Y = iris.target\n",
        "\n",
        "plt.scatter(X[:, 0], X[:, 1], c=Y, cmap='gist_rainbow')\n",
        "plt.ylabel('Petal Width', fontsize=20)\n",
        "plt.xlabel('Petal Length', fontsize=20)"
      ],
      "execution_count": 56,
      "outputs": [
        {
          "output_type": "execute_result",
          "data": {
            "text/plain": [
              "Text(0.5, 0, 'Petal Length')"
            ]
          },
          "metadata": {
            "tags": []
          },
          "execution_count": 56
        },
        {
          "output_type": "display_data",
          "data": {
            "image/png": "[encoded data removed]",
            "text/plain": [
              "<Figure size 432x288 with 1 Axes>"
            ]
          },
          "metadata": {
            "tags": []
          }
        }
      ]
    },
    {
      "metadata": {
        "id": "KCCAj-DHaYv2",
        "colab_type": "text"
      },
      "cell_type": "markdown",
      "source": [
        "The iris dataset will now be split into train and test dataset."
      ]
    },
    {
      "metadata": {
        "id": "Fi37-SUgaeqq",
        "colab_type": "code",
        "colab": {}
      },
      "cell_type": "code",
      "source": [
        "from sklearn.model_selection import train_test_split\n",
        "\n",
        "X_train, X_valid, Y_train, Y_valid = train_test_split(iris.data, Y, random_state=21, test_size=0.75)"
      ],
      "execution_count": 0,
      "outputs": []
    },
    {
      "metadata": {
        "id": "vW-jkn0ddIzb",
        "colab_type": "text"
      },
      "cell_type": "markdown",
      "source": [
        "Now, the data will be fit into ```K-Means Classifier```."
      ]
    },
    {
      "metadata": {
        "id": "IGX9sjVCdK_t",
        "colab_type": "code",
        "colab": {
          "base_uri": "https://localhost:8080/",
          "height": 67
        },
        "outputId": "0fb77348-b349-4c85-8e61-42aef2e9dc0e"
      },
      "cell_type": "code",
      "source": [
        "k_means = KMeans(n_clusters = 3, n_jobs = 4, random_state=21)\n",
        "\n",
        "k_means.fit(X_train[:, 2:4])"
      ],
      "execution_count": 83,
      "outputs": [
        {
          "output_type": "execute_result",
          "data": {
            "text/plain": [
              "KMeans(algorithm='auto', copy_x=True, init='k-means++', max_iter=300,\n",
              "    n_clusters=3, n_init=10, n_jobs=4, precompute_distances='auto',\n",
              "    random_state=21, tol=0.0001, verbose=0)"
            ]
          },
          "metadata": {
            "tags": []
          },
          "execution_count": 83
        }
      ]
    },
    {
      "metadata": {
        "id": "C3QS6K6MeEy3",
        "colab_type": "text"
      },
      "cell_type": "markdown",
      "source": [
        "The centroids for the three clusters can be obtained now."
      ]
    },
    {
      "metadata": {
        "id": "1ZZ2NzpkeKJT",
        "colab_type": "code",
        "colab": {}
      },
      "cell_type": "code",
      "source": [
        "centers = k_means.cluster_centers_\n",
        "\n",
        "new_labels = k_means.labels_"
      ],
      "execution_count": 0,
      "outputs": []
    },
    {
      "metadata": {
        "id": "PWcD2oNJfrdD",
        "colab_type": "text"
      },
      "cell_type": "markdown",
      "source": [
        "Scatter Plot for the obtained label is plotted below."
      ]
    },
    {
      "metadata": {
        "id": "coksdNXZf0BX",
        "colab_type": "code",
        "colab": {
          "base_uri": "https://localhost:8080/",
          "height": 309
        },
        "outputId": "5e8f8227-b9ee-4954-ccf6-32c2e9436fa7"
      },
      "cell_type": "code",
      "source": [
        "X = X_train[:, 2:4]\n",
        "Y = new_labels\n",
        "\n",
        "plt.scatter(X[:, 0], X[:, 1], c=Y, cmap='jet')\n",
        "plt.ylabel('Petal Width', fontsize=20)\n",
        "plt.xlabel('Petal Length', fontsize=20)"
      ],
      "execution_count": 89,
      "outputs": [
        {
          "output_type": "execute_result",
          "data": {
            "text/plain": [
              "Text(0.5, 0, 'Petal Length')"
            ]
          },
          "metadata": {
            "tags": []
          },
          "execution_count": 89
        },
        {
          "output_type": "display_data",
          "data": {
            "image/png": "[encoded data removed]",
            "text/plain": [
              "<Figure size 432x288 with 1 Axes>"
            ]
          },
          "metadata": {
            "tags": []
          }
        }
      ]
    }
  ]
}