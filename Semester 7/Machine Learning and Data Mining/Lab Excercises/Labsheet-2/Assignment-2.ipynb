{
 "cells": [
  {
   "cell_type": "markdown",
   "metadata": {},
   "source": [
    "# Assignment 2 "
   ]
  },
  {
   "cell_type": "code",
   "execution_count": 1,
   "metadata": {},
   "outputs": [],
   "source": [
    "import numpy as np\n",
    "import pandas as pd"
   ]
  },
  {
   "cell_type": "code",
   "execution_count": 7,
   "metadata": {},
   "outputs": [
    {
     "name": "stdout",
     "output_type": "stream",
     "text": [
      "2\n"
     ]
    }
   ],
   "source": [
    "v1 = np.array([1, 6, 7, 9])\n",
    "v2 = np.array([1, 0, 6, 9])\n",
    "result = np.sum(v1 == v2)\n",
    "print(result)"
   ]
  },
  {
   "cell_type": "code",
   "execution_count": 25,
   "metadata": {},
   "outputs": [
    {
     "name": "stdout",
     "output_type": "stream",
     "text": [
      "The shape of the matrix is (10, 3)\n",
      "The number of rows of the matrix is 10\n",
      "The number of columns of the matrix us 3\n",
      "\n",
      "The matrix before modification\n",
      " [[ 1 36 70]\n",
      " [61 81 38]\n",
      " [88 98 69]\n",
      " [82 78 87]\n",
      " [50 21 39]\n",
      " [89 84 93]\n",
      " [15 56 73]\n",
      " [59 64 59]\n",
      " [41 73 68]\n",
      " [40 37 71]]\n",
      "\n",
      "Matrix after evaluation\n",
      " [[ 1 36  0]\n",
      " [61 81  0]\n",
      " [88 98  0]\n",
      " [82 78  1]\n",
      " [50 21  0]\n",
      " [89 84  0]\n",
      " [15 56  0]\n",
      " [59 64  0]\n",
      " [41 73  0]\n",
      " [40 37  0]]\n"
     ]
    }
   ],
   "source": [
    "matrix = np.random.randint(0, 100, (10, 3))\n",
    "print(f'The shape of the matrix is {matrix.shape}')\n",
    "print(f'The number of rows of the matrix is {matrix.shape[0]}')\n",
    "print(f'The number of columns of the matrix us {matrix.shape[1]}')\n",
    "\n",
    "print(f'\\nThe matrix before modification\\n {matrix}')\n",
    "\n",
    "j = 0\n",
    "for i in range(0, matrix.shape[0]):\n",
    "    result = matrix[i][j] + matrix[i][j+1]\n",
    "    if(result % 4 == 0):\n",
    "        matrix[i][j+2] = 1\n",
    "    else: \n",
    "        matrix[i][j+2] = 0\n",
    "print(f'\\nMatrix after evaluation\\n {matrix}')"
   ]
  },
  {
   "cell_type": "code",
   "execution_count": null,
   "metadata": {},
   "outputs": [],
   "source": [
    "colunmns = []\n",
    "df = pd.DataFrame()"
   ]
  }
 ],
 "metadata": {
  "kernelspec": {
   "display_name": "Python 3",
   "language": "python",
   "name": "python3"
  },
  "language_info": {
   "codemirror_mode": {
    "name": "ipython",
    "version": 3
   },
   "file_extension": ".py",
   "mimetype": "text/x-python",
   "name": "python",
   "nbconvert_exporter": "python",
   "pygments_lexer": "ipython3",
   "version": "3.7.3"
  }
 },
 "nbformat": 4,
 "nbformat_minor": 2
}
