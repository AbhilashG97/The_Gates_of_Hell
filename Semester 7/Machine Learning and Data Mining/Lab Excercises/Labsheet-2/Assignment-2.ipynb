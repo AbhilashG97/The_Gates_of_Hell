{
 "cells": [
  {
   "cell_type": "markdown",
   "metadata": {},
   "source": [
    "# Assignment 2 "
   ]
  },
  {
   "cell_type": "markdown",
   "metadata": {},
   "source": [
    "## PART A : Prerequisite for kNN implementation"
   ]
  },
  {
   "cell_type": "code",
   "execution_count": 8,
   "metadata": {},
   "outputs": [],
   "source": [
    "import numpy as np\n",
    "import pandas as pd\n",
    "import matplotlib.pyplot as plt"
   ]
  },
  {
   "cell_type": "code",
   "execution_count": 9,
   "metadata": {},
   "outputs": [
    {
     "name": "stdout",
     "output_type": "stream",
     "text": [
      "2\n"
     ]
    }
   ],
   "source": [
    "v1 = np.array([1, 6, 7, 9])\n",
    "v2 = np.array([1, 0, 6, 9])\n",
    "result = np.sum(v1 == v2)\n",
    "print(result)"
   ]
  },
  {
   "cell_type": "code",
   "execution_count": 10,
   "metadata": {},
   "outputs": [
    {
     "name": "stdout",
     "output_type": "stream",
     "text": [
      "The shape of the matrix is (10, 3)\n",
      "The number of rows of the matrix is 10\n",
      "The number of columns of the matrix us 3\n",
      "\n",
      "The matrix before modification\n",
      " [[83 67 17]\n",
      " [ 9 23 81]\n",
      " [57 38 61]\n",
      " [99 98 53]\n",
      " [37 19 55]\n",
      " [60 40 18]\n",
      " [94 81 53]\n",
      " [25 34 53]\n",
      " [26  3 93]\n",
      " [53 71 66]]\n",
      "\n",
      "Matrix after evaluation\n",
      " [[83 67  0]\n",
      " [ 9 23  1]\n",
      " [57 38  0]\n",
      " [99 98  0]\n",
      " [37 19  1]\n",
      " [60 40  1]\n",
      " [94 81  0]\n",
      " [25 34  0]\n",
      " [26  3  0]\n",
      " [53 71  1]]\n"
     ]
    }
   ],
   "source": [
    "matrix = np.random.randint(0, 100, (10, 3))\n",
    "print(f'The shape of the matrix is {matrix.shape}')\n",
    "print(f'The number of rows of the matrix is {matrix.shape[0]}')\n",
    "print(f'The number of columns of the matrix us {matrix.shape[1]}')\n",
    "\n",
    "print(f'\\nThe matrix before modification\\n {matrix}')\n",
    "\n",
    "j = 0\n",
    "for i in range(0, matrix.shape[0]):\n",
    "    result = matrix[i][j] + matrix[i][j+1]\n",
    "    if(result % 4 == 0):\n",
    "        matrix[i][j+2] = 1\n",
    "    else: \n",
    "        matrix[i][j+2] = 0\n",
    "print(f'\\nMatrix after evaluation\\n {matrix}')"
   ]
  },
  {
   "cell_type": "code",
   "execution_count": 11,
   "metadata": {},
   "outputs": [
    {
     "data": {
      "text/html": [
       "<div>\n",
       "<style scoped>\n",
       "    .dataframe tbody tr th:only-of-type {\n",
       "        vertical-align: middle;\n",
       "    }\n",
       "\n",
       "    .dataframe tbody tr th {\n",
       "        vertical-align: top;\n",
       "    }\n",
       "\n",
       "    .dataframe thead th {\n",
       "        text-align: right;\n",
       "    }\n",
       "</style>\n",
       "<table border=\"1\" class=\"dataframe\">\n",
       "  <thead>\n",
       "    <tr style=\"text-align: right;\">\n",
       "      <th></th>\n",
       "      <th>X1</th>\n",
       "      <th>X2</th>\n",
       "      <th>Y</th>\n",
       "    </tr>\n",
       "  </thead>\n",
       "  <tbody>\n",
       "    <tr>\n",
       "      <th>0</th>\n",
       "      <td>83</td>\n",
       "      <td>67</td>\n",
       "      <td>0</td>\n",
       "    </tr>\n",
       "    <tr>\n",
       "      <th>1</th>\n",
       "      <td>9</td>\n",
       "      <td>23</td>\n",
       "      <td>1</td>\n",
       "    </tr>\n",
       "    <tr>\n",
       "      <th>2</th>\n",
       "      <td>57</td>\n",
       "      <td>38</td>\n",
       "      <td>0</td>\n",
       "    </tr>\n",
       "    <tr>\n",
       "      <th>3</th>\n",
       "      <td>99</td>\n",
       "      <td>98</td>\n",
       "      <td>0</td>\n",
       "    </tr>\n",
       "    <tr>\n",
       "      <th>4</th>\n",
       "      <td>37</td>\n",
       "      <td>19</td>\n",
       "      <td>1</td>\n",
       "    </tr>\n",
       "    <tr>\n",
       "      <th>5</th>\n",
       "      <td>60</td>\n",
       "      <td>40</td>\n",
       "      <td>1</td>\n",
       "    </tr>\n",
       "    <tr>\n",
       "      <th>6</th>\n",
       "      <td>94</td>\n",
       "      <td>81</td>\n",
       "      <td>0</td>\n",
       "    </tr>\n",
       "    <tr>\n",
       "      <th>7</th>\n",
       "      <td>25</td>\n",
       "      <td>34</td>\n",
       "      <td>0</td>\n",
       "    </tr>\n",
       "    <tr>\n",
       "      <th>8</th>\n",
       "      <td>26</td>\n",
       "      <td>3</td>\n",
       "      <td>0</td>\n",
       "    </tr>\n",
       "    <tr>\n",
       "      <th>9</th>\n",
       "      <td>53</td>\n",
       "      <td>71</td>\n",
       "      <td>1</td>\n",
       "    </tr>\n",
       "  </tbody>\n",
       "</table>\n",
       "</div>"
      ],
      "text/plain": [
       "   X1  X2  Y\n",
       "0  83  67  0\n",
       "1   9  23  1\n",
       "2  57  38  0\n",
       "3  99  98  0\n",
       "4  37  19  1\n",
       "5  60  40  1\n",
       "6  94  81  0\n",
       "7  25  34  0\n",
       "8  26   3  0\n",
       "9  53  71  1"
      ]
     },
     "execution_count": 11,
     "metadata": {},
     "output_type": "execute_result"
    }
   ],
   "source": [
    "colunmns = []\n",
    "df = pd.DataFrame({'X1' : matrix[:, 0], 'X2' : matrix[:, 1], 'Y' : matrix[:, 2]})\n",
    "df"
   ]
  },
  {
   "cell_type": "code",
   "execution_count": 12,
   "metadata": {},
   "outputs": [
    {
     "data": {
      "image/png": "[encoded data removed]",
      "text/plain": [
       "<Figure size 432x288 with 1 Axes>"
      ]
     },
     "metadata": {
      "needs_background": "light"
     },
     "output_type": "display_data"
    }
   ],
   "source": [
    "col = df.Y.map({0:'b', 1:'r'})\n",
    "\n",
    "df.plot.scatter(x='X1', y='X2', c=col)\n",
    "plt.show()"
   ]
  },
  {
   "cell_type": "code",
   "execution_count": 14,
   "metadata": {},
   "outputs": [
    {
     "name": "stdout",
     "output_type": "stream",
     "text": [
      "0    256\n",
      "1    196\n",
      "2    361\n",
      "3      1\n",
      "4    324\n",
      "5    400\n",
      "6    169\n",
      "7     81\n",
      "8    529\n",
      "9    324\n",
      "dtype: int32\n"
     ]
    }
   ],
   "source": [
    "squared_error = np.square(df['X1'] - df['X2'])\n",
    "squared_error.shape\n",
    "print(squared_error)"
   ]
  },
  {
   "cell_type": "code",
   "execution_count": 15,
   "metadata": {},
   "outputs": [
    {
     "name": "stdout",
     "output_type": "stream",
     "text": [
      "2641\n"
     ]
    }
   ],
   "source": [
    "matrix_sum = np.sum(squared_error)\n",
    "print(matrix_sum)"
   ]
  },
  {
   "cell_type": "code",
   "execution_count": 16,
   "metadata": {},
   "outputs": [
    {
     "data": {
      "text/plain": [
       "86.09297300012354"
      ]
     },
     "execution_count": 16,
     "metadata": {},
     "output_type": "execute_result"
    }
   ],
   "source": [
    "import math\n",
    "result = math.sqrt(pow(df.iat[0, 0] - df.iat[1, 0], 2) + pow(df.iat[0, 1] - df.iat[1, 1], 2))\n",
    "result"
   ]
  },
  {
   "cell_type": "code",
   "execution_count": 33,
   "metadata": {},
   "outputs": [
    {
     "name": "stdout",
     "output_type": "stream",
     "text": [
      "X1    83\n",
      "X2    67\n",
      "Y      0\n",
      "Name: 0, dtype: int32 X1     9\n",
      "X2    23\n",
      "Y      1\n",
      "Name: 1, dtype: int32\n"
     ]
    },
    {
     "data": {
      "text/plain": [
       "86.09878047916823"
      ]
     },
     "execution_count": 33,
     "metadata": {},
     "output_type": "execute_result"
    }
   ],
   "source": [
    "a = df.iloc[0, :]\n",
    "b = df.iloc[1, :]\n",
    "\n",
    "print(a, b)\n",
    "\n",
    "np.linalg.norm(a-b)"
   ]
  },
  {
   "cell_type": "code",
   "execution_count": 104,
   "metadata": {},
   "outputs": [
    {
     "name": "stdout",
     "output_type": "stream",
     "text": [
      "The Euclidean Distances are -\n",
      "[42.7551166528639, 61.05735008989499, 40.311288741492746, 62.39390995922599, 56.142675390472796, 39.824615503479755, 53.33854141237835, 44.01136216933077, 73.54590403278758, 12.649110640673518]\n"
     ]
    }
   ],
   "source": [
    "import random\n",
    "V = np.random.randint(1, 100, size=2)\n",
    "\n",
    "def getEuclideanDistance(a, b):\n",
    "    return math.sqrt(pow((a[0]-b[0]), 2) + pow((a[1]-b[1]), 2))"
   ]
  },
  {
   "cell_type": "code",
   "execution_count": 105,
   "metadata": {},
   "outputs": [
    {
     "name": "stdout",
     "output_type": "stream",
     "text": [
      "The Euclidean Distances are -\n",
      "[42.7551166528639, 61.05735008989499, 40.311288741492746, 62.39390995922599, 56.142675390472796, 39.824615503479755, 53.33854141237835, 44.01136216933077, 73.54590403278758, 12.649110640673518]\n"
     ]
    }
   ],
   "source": [
    "result = []\n",
    "\n",
    "for index, row in df.iterrows():\n",
    "    result.append(getEuclideanDistance(row[0:2], V))\n",
    "\n",
    "print(f'The Euclidean Distances are -\\n{result}')"
   ]
  },
  {
   "cell_type": "code",
   "execution_count": 78,
   "metadata": {},
   "outputs": [
    {
     "name": "stdout",
     "output_type": "stream",
     "text": [
      "Stacking Columns\n",
      "[[ 0  0 81]\n",
      " [ 0  0 36]\n",
      " [ 0  0 23]\n",
      " [ 0  0 35]\n",
      " [ 0  0 64]\n",
      " [ 0  0 61]\n",
      " [ 0  0 50]\n",
      " [ 0  0 60]\n",
      " [ 0  0 68]\n",
      " [ 0  0 34]], (10, 3)\n",
      "\n",
      "\n",
      "Stacking Rows\n",
      "[[ 0  0 81]\n",
      " [ 0  0 36]\n",
      " [ 0  0 23]\n",
      " [ 0  0 35]\n",
      " [ 0  0 64]\n",
      " [ 0  0 61]\n",
      " [ 0  0 50]\n",
      " [ 0  0 60]\n",
      " [ 0  0 68]\n",
      " [ 0  0 34]\n",
      " [ 1  2  3]], (11, 3)\n",
      "\n",
      "\n"
     ]
    }
   ],
   "source": [
    "A = np.zeros((10, 2), dtype=np.int8)\n",
    "\n",
    "B = np.random.randint(1, 100, size=(10, 1))\n",
    "\n",
    "A = np.column_stack((A, B))\n",
    "print(f'Stacking Columns\\n{A}, {A.shape}\\n\\n')\n",
    "\n",
    "C = np.array([1, 2, 3])\n",
    "A = np.vstack((A, C))\n",
    "print(f'Stacking Rows\\n{A}, {A.shape}\\n\\n')"
   ]
  },
  {
   "cell_type": "code",
   "execution_count": 116,
   "metadata": {},
   "outputs": [
    {
     "data": {
      "text/plain": [
       "array([[ 0,  0, 78],\n",
       "       [ 1,  1, 85],\n",
       "       [ 2,  2, 26],\n",
       "       [ 3,  3, 46],\n",
       "       [ 4,  4, 62],\n",
       "       [ 5,  5, 39],\n",
       "       [ 6,  6, 49],\n",
       "       [ 7,  7, 33],\n",
       "       [ 8,  8, 70],\n",
       "       [ 9,  9, 66]], dtype=int8)"
      ]
     },
     "execution_count": 116,
     "metadata": {},
     "output_type": "execute_result"
    }
   ],
   "source": [
    "M = df.values[:, 0:2]\n",
    "m = pd.DataFrame({'X1' : np.random.randint(1, 100, size=10), 'X2' : np.random.randint(1, 100, size=10)})\n",
    "\n",
    "Dist = np.zeros((10, 3), dtype=np.int8)\n",
    "Dist\n",
    "\n",
    "row_counter = 0\n",
    "for index, rows in m.iterrows():\n",
    "    Dist[row_counter, 2] = getEuclideanDistance(M[row_counter, :], rows)\n",
    "    Dist[row_counter, 0] = row_counter\n",
    "    Dist[row_counter, 1] = row_counter\n",
    "    row_counter += 1;\n",
    "\n",
    "Dist"
   ]
  },
  {
   "cell_type": "code",
   "execution_count": 121,
   "metadata": {},
   "outputs": [
    {
     "name": "stdout",
     "output_type": "stream",
     "text": [
      "The result is\n",
      " [[ 78.64477096  60.07495318  68.01470429  94.20191081  71.11258679\n",
      "   69.02897942  88.02272434  52.55473337  82.46211251  48.50773134]\n",
      " [ 24.69817807  85.61541917  35.51056181  54.45181356  60.41522987\n",
      "   32.24903099  37.05401463  67.74215822  77.69813383  47.4341649 ]\n",
      " [ 47.5394573   42.52058325  26.2488095   75.45197148  36.\n",
      "   27.45906044  62.64982043  24.18677324  53.15072906  22.627417  ]\n",
      " [ 12.04159458  74.70609078  26.90724809  46.64761516  54.45181356\n",
      "   23.43074903  29.83286778  55.4616985   73.66138744  25.55386468]\n",
      " [ 59.43904441  59.20304046  52.80151513  76.15773106  62.16912417\n",
      "   53.15072906  69.007246    46.          77.00649323  29.41088234]\n",
      " [ 67.62396025  20.80865205  36.05551275  97.20082304  26.40075756\n",
      "   39.          83.72574276   7.21110255  37.33630941  44.55333882]\n",
      " [ 31.90611227  59.48108943   9.21954446  66.73080248  35.80502758\n",
      "    6.          49.64876635  41.43669871  54.4885309   33.61547263]\n",
      " [ 52.          49.1934955   38.94868419  74.73285757  48.37354649\n",
      "   39.62322551  64.5368112   33.54101966  64.19501538  22.36067977]\n",
      " [ 15.65247584  73.40980861  24.20743687  50.53711507  51.73973328\n",
      "   20.61552813  33.28663395  54.4242593   70.71067812  29.20616373]\n",
      " [ 89.4427191    7.21110255  55.10898293 119.40268004  34.92849839\n",
      "   58.46366393 105.81587783  23.08679276  33.24154028  66.60330322]]\n"
     ]
    }
   ],
   "source": [
    "from sklearn.metrics.pairwise import euclidean_distances\n",
    "\n",
    "result = euclidean_distances(m.values, M)\n",
    "print(f'The result is\\n {result}')"
   ]
  },
  {
   "cell_type": "code",
   "execution_count": 127,
   "metadata": {},
   "outputs": [
    {
     "name": "stdout",
     "output_type": "stream",
     "text": [
      "Dist before sorting\n",
      "[[ 0  0 78]\n",
      " [ 1  1 85]\n",
      " [ 2  2 26]\n",
      " [ 3  3 46]\n",
      " [ 4  4 62]\n",
      " [ 5  5 39]\n",
      " [ 6  6 49]\n",
      " [ 7  7 33]\n",
      " [ 8  8 70]\n",
      " [ 9  9 66]]\n",
      "\n",
      "Dist after sorting\n",
      "[[ 2  2 26]\n",
      " [ 7  7 33]\n",
      " [ 5  5 39]\n",
      " [ 3  3 46]\n",
      " [ 6  6 49]\n",
      " [ 4  4 62]\n",
      " [ 9  9 66]\n",
      " [ 8  8 70]\n",
      " [ 0  0 78]\n",
      " [ 1  1 85]]\n"
     ]
    }
   ],
   "source": [
    "print(f'Dist before sorting\\n{Dist}\\n')\n",
    "\n",
    "print(f'Dist after sorting\\n{Dist[Dist[:, 2].argsort()]}')"
   ]
  },
  {
   "cell_type": "code",
   "execution_count": 142,
   "metadata": {},
   "outputs": [],
   "source": [
    "sorted_matrix = Dist[Dist[:, 2].argsort()]\n",
    "\n",
    "def get_k_rows(matrix, k):\n",
    "    return matrix[:k, :]"
   ]
  },
  {
   "cell_type": "code",
   "execution_count": 146,
   "metadata": {},
   "outputs": [],
   "source": [
    "def get_ones_and_zeros(matrix):\n",
    "    \n",
    "    result = [0, 0]\n",
    "    \n",
    "    for i in range(len(matrix)):\n",
    "        for j in range(len(matrix[i])):\n",
    "            if (matrix[i][j] == 1):\n",
    "                result[0] += 1\n",
    "            elif (matrix[i][j] == 0):\n",
    "                result[1] += 1\n",
    "    \n",
    "    return result"
   ]
  },
  {
   "cell_type": "code",
   "execution_count": 147,
   "metadata": {},
   "outputs": [],
   "source": [
    "def print_result(matrix):\n",
    "    \n",
    "    ones = 0\n",
    "    zeros = 0\n",
    "    \n",
    "    for i in range(len(matrix)):\n",
    "        for j in range(len(matrix[i])):\n",
    "            if (matrix[i][j] == 1):\n",
    "                ones += 1\n",
    "            else:\n",
    "                zeros += 1\n",
    "    if (ones > zeros):\n",
    "        print(1)\n",
    "    else:\n",
    "        print(0)"
   ]
  },
  {
   "cell_type": "code",
   "execution_count": 158,
   "metadata": {},
   "outputs": [
    {
     "name": "stdout",
     "output_type": "stream",
     "text": [
      "The number of ones are 2 and the number of zeros are 2\n",
      "0\n"
     ]
    }
   ],
   "source": [
    "k_rows = get_k_rows(Dist, 5)\n",
    "\n",
    "zeros_and_ones = get_ones_and_zeros(k_rows)\n",
    "\n",
    "print(f'The number of ones are {zeros_and_ones[0]} and the number of zeros are {zeros_and_ones[1]}')\n",
    "\n",
    "print_result(k_rows)"
   ]
  },
  {
   "cell_type": "markdown",
   "metadata": {},
   "source": [
    "## kNN Implementation\n"
   ]
  },
  {
   "cell_type": "code",
   "execution_count": 160,
   "metadata": {},
   "outputs": [
    {
     "data": {
      "text/html": [
       "<div>\n",
       "<style scoped>\n",
       "    .dataframe tbody tr th:only-of-type {\n",
       "        vertical-align: middle;\n",
       "    }\n",
       "\n",
       "    .dataframe tbody tr th {\n",
       "        vertical-align: top;\n",
       "    }\n",
       "\n",
       "    .dataframe thead th {\n",
       "        text-align: right;\n",
       "    }\n",
       "</style>\n",
       "<table border=\"1\" class=\"dataframe\">\n",
       "  <thead>\n",
       "    <tr style=\"text-align: right;\">\n",
       "      <th></th>\n",
       "      <th>Pregnancies</th>\n",
       "      <th>Glucose</th>\n",
       "      <th>BloodPressure</th>\n",
       "      <th>SkinThickness</th>\n",
       "      <th>Insulin</th>\n",
       "      <th>BMI</th>\n",
       "      <th>DiabetesPedigreeFunction</th>\n",
       "      <th>Age</th>\n",
       "      <th>Outcome</th>\n",
       "    </tr>\n",
       "  </thead>\n",
       "  <tbody>\n",
       "    <tr>\n",
       "      <th>0</th>\n",
       "      <td>6</td>\n",
       "      <td>148</td>\n",
       "      <td>72</td>\n",
       "      <td>35</td>\n",
       "      <td>0</td>\n",
       "      <td>33.6</td>\n",
       "      <td>0.627</td>\n",
       "      <td>50</td>\n",
       "      <td>1</td>\n",
       "    </tr>\n",
       "    <tr>\n",
       "      <th>1</th>\n",
       "      <td>1</td>\n",
       "      <td>85</td>\n",
       "      <td>66</td>\n",
       "      <td>29</td>\n",
       "      <td>0</td>\n",
       "      <td>26.6</td>\n",
       "      <td>0.351</td>\n",
       "      <td>31</td>\n",
       "      <td>0</td>\n",
       "    </tr>\n",
       "    <tr>\n",
       "      <th>2</th>\n",
       "      <td>8</td>\n",
       "      <td>183</td>\n",
       "      <td>64</td>\n",
       "      <td>0</td>\n",
       "      <td>0</td>\n",
       "      <td>23.3</td>\n",
       "      <td>0.672</td>\n",
       "      <td>32</td>\n",
       "      <td>1</td>\n",
       "    </tr>\n",
       "    <tr>\n",
       "      <th>3</th>\n",
       "      <td>1</td>\n",
       "      <td>89</td>\n",
       "      <td>66</td>\n",
       "      <td>23</td>\n",
       "      <td>94</td>\n",
       "      <td>28.1</td>\n",
       "      <td>0.167</td>\n",
       "      <td>21</td>\n",
       "      <td>0</td>\n",
       "    </tr>\n",
       "    <tr>\n",
       "      <th>4</th>\n",
       "      <td>0</td>\n",
       "      <td>137</td>\n",
       "      <td>40</td>\n",
       "      <td>35</td>\n",
       "      <td>168</td>\n",
       "      <td>43.1</td>\n",
       "      <td>2.288</td>\n",
       "      <td>33</td>\n",
       "      <td>1</td>\n",
       "    </tr>\n",
       "  </tbody>\n",
       "</table>\n",
       "</div>"
      ],
      "text/plain": [
       "   Pregnancies  Glucose  BloodPressure  SkinThickness  Insulin   BMI  \\\n",
       "0            6      148             72             35        0  33.6   \n",
       "1            1       85             66             29        0  26.6   \n",
       "2            8      183             64              0        0  23.3   \n",
       "3            1       89             66             23       94  28.1   \n",
       "4            0      137             40             35      168  43.1   \n",
       "\n",
       "   DiabetesPedigreeFunction  Age  Outcome  \n",
       "0                     0.627   50        1  \n",
       "1                     0.351   31        0  \n",
       "2                     0.672   32        1  \n",
       "3                     0.167   21        0  \n",
       "4                     2.288   33        1  "
      ]
     },
     "execution_count": 160,
     "metadata": {},
     "output_type": "execute_result"
    }
   ],
   "source": [
    "data = pd.read_csv(\"data/diabetes.csv\")\n",
    "data.head()"
   ]
  },
  {
   "cell_type": "code",
   "execution_count": 166,
   "metadata": {},
   "outputs": [],
   "source": [
    "from sklearn.model_selection import train_test_split\n",
    "\n",
    "data_values = data.values\n",
    "\n",
    "X = data_values[:, 0:8]\n",
    "Y = data_values[:, 8]\n",
    "\n",
    "x_train, x_test, y_train, y_test = train_test_split(X, Y, test_size=0.2)"
   ]
  },
  {
   "cell_type": "code",
   "execution_count": 168,
   "metadata": {},
   "outputs": [
    {
     "name": "stdout",
     "output_type": "stream",
     "text": [
      "[[-0.82815361 -0.16793005  0.0423549  ...  0.35135332  0.15070587\n",
      "  -0.09288907]\n",
      " [ 0.64316096 -0.57374828  1.10817075 ...  0.48908056  0.58598059\n",
      "  -0.43338989]\n",
      " [-0.82815361  2.14211222 -0.49055303 ... -0.21207629 -0.24254233\n",
      "   2.20549146]\n",
      " ...\n",
      " [-1.12241652 -0.35523077  1.00158916 ...  0.0884195   1.12932351\n",
      "   0.41786216]\n",
      " [ 2.11447553  0.70614     1.32133392 ...  0.60176648 -0.67481516\n",
      "   1.52448982]\n",
      " [ 0.64316096  1.29925896 -0.38397144 ... -0.93827446 -0.90295915\n",
      "   1.43936462]] [[ 0.93646615  0.41384536  0.24626451 ... -0.91928806  0.63053327\n",
      "   1.46009866]\n",
      " [-0.91641334 -0.50567373 -0.03293599 ... -0.85154456 -0.8687051\n",
      "  -0.83694645]\n",
      " [ 0.6276529  -0.79104173 -0.49827016 ...  0.1646079  -0.04443504\n",
      "   0.7794927 ]\n",
      " ...\n",
      " [ 0.0100264   0.06506226  0.52546501 ... -0.06571999  0.28527298\n",
      "  -0.58171922]\n",
      " [-0.29878685 -0.09347552  0.06013084 ...  1.37044216  0.02399492\n",
      "  -0.32649198]\n",
      " [-0.29878685 -0.37884351  0.99079918 ... -0.59411927  0.1577444\n",
      "  -0.41156773]]\n"
     ]
    }
   ],
   "source": [
    "from sklearn.preprocessing import StandardScaler\n",
    "\n",
    "normal_x_train = StandardScaler().fit_transform(x_train)\n",
    "normal_x_test = StandardScaler().fit_transform(x_test)\n",
    "\n",
    "print(normal_x_train, normal_x_test)"
   ]
  },
  {
   "cell_type": "code",
   "execution_count": 173,
   "metadata": {},
   "outputs": [
    {
     "name": "stdout",
     "output_type": "stream",
     "text": [
      "The actual output is as follows\n",
      "[0. 0. 0. 0. 1. 0. 0. 1. 1. 0. 0. 0. 0. 1. 0. 0. 1. 1. 0. 1. 0. 0. 0. 1.\n",
      " 0. 0. 1. 0. 1. 1. 0. 0. 0. 1. 0. 0. 1. 1. 0. 1. 1. 0. 1. 1. 0. 1. 0. 0.\n",
      " 1. 0. 0. 0. 0. 1. 0. 0. 0. 1. 1. 1. 0. 0. 1. 0. 0. 0. 0. 1. 0. 0. 0. 1.\n",
      " 0. 1. 1. 0. 0. 0. 1. 1. 0. 0. 0. 0. 1. 0. 1. 1. 0. 0. 1. 1. 0. 1. 0. 1.\n",
      " 0. 0. 0. 0. 0. 1. 1. 1. 0. 0. 0. 1. 0. 1. 1. 0. 0. 0. 0. 1. 1. 0. 1. 0.\n",
      " 0. 0. 0. 1. 0. 0. 0. 1. 0. 0. 0. 0. 0. 1. 0. 0. 1. 1. 1. 1. 0. 1. 0. 1.\n",
      " 1. 0. 1. 1. 1. 0. 0. 1. 0. 0.]\n",
      "\n",
      "\n",
      "The predicted output is as follows\n",
      "[0. 0. 0. 0. 1. 0. 0. 1. 0. 1. 0. 0. 0. 1. 0. 0. 0. 0. 0. 0. 0. 0. 0. 1.\n",
      " 0. 0. 0. 0. 1. 1. 0. 0. 0. 0. 0. 0. 0. 1. 0. 1. 1. 0. 0. 0. 0. 0. 0. 0.\n",
      " 1. 0. 1. 1. 0. 1. 0. 0. 0. 0. 1. 0. 0. 0. 1. 1. 0. 1. 0. 0. 0. 0. 0. 1.\n",
      " 0. 0. 0. 0. 0. 0. 0. 1. 0. 0. 0. 0. 1. 0. 1. 0. 0. 0. 0. 1. 0. 0. 0. 0.\n",
      " 1. 1. 0. 1. 0. 0. 0. 0. 0. 1. 0. 1. 0. 1. 0. 0. 0. 0. 0. 0. 0. 0. 1. 0.\n",
      " 0. 1. 1. 1. 0. 0. 0. 0. 0. 1. 0. 0. 0. 1. 0. 0. 0. 0. 1. 0. 1. 0. 1. 0.\n",
      " 0. 0. 1. 1. 0. 0. 1. 0. 0. 0.]\n"
     ]
    }
   ],
   "source": [
    "from sklearn.neighbors import KNeighborsClassifier\n",
    "\n",
    "classifier = KNeighborsClassifier(5)\n",
    "classifier.fit(normal_x_train, y_train)\n",
    "\n",
    "y_pred = classifier.predict(normal_x_test)\n",
    "\n",
    "print(f'The actual output is as follows\\n{y_test}\\n\\n')\n",
    "print(f'The predicted output is as follows\\n{y_pred}')"
   ]
  },
  {
   "cell_type": "code",
   "execution_count": 185,
   "metadata": {},
   "outputs": [
    {
     "name": "stdout",
     "output_type": "stream",
     "text": [
      "[[78 15]\n",
      " [35 26]]\n",
      "              precision    recall  f1-score   support\n",
      "\n",
      "         0.0       0.69      0.84      0.76        93\n",
      "         1.0       0.63      0.43      0.51        61\n",
      "\n",
      "    accuracy                           0.68       154\n",
      "   macro avg       0.66      0.63      0.63       154\n",
      "weighted avg       0.67      0.68      0.66       154\n",
      "\n"
     ]
    }
   ],
   "source": [
    "from sklearn.metrics import classification_report, confusion_matrix\n",
    "\n",
    "print(confusion_matrix(y_test, y_pred))\n",
    "print(classification_report(y_test, y_pred))"
   ]
  },
  {
   "cell_type": "code",
   "execution_count": 220,
   "metadata": {},
   "outputs": [],
   "source": [
    "def get_accuracy(report):\n",
    "    \n",
    "    words = report.split(\"\\n\")\n",
    "    value = words[5]\n",
    "    values = value.split(\" \")\n",
    "    temp = []\n",
    "\n",
    "    for value in values:\n",
    "        if value != \"\":\n",
    "            temp.append(value)\n",
    "    accuracy = np.float64(temp[1])\n",
    "\n",
    "    return accuracy"
   ]
  },
  {
   "cell_type": "markdown",
   "metadata": {},
   "source": [
    "### Explanation for the output obtained"
   ]
  },
  {
   "cell_type": "markdown",
   "metadata": {},
   "source": [
    "The classification report gives us an accuracy of **68%**"
   ]
  },
  {
   "cell_type": "code",
   "execution_count": 177,
   "metadata": {},
   "outputs": [],
   "source": [
    "def get_correct_predictions(predicted_values, actual_values):\n",
    "    \n",
    "    correct_values = 0\n",
    "    \n",
    "    for i in range(len(predicted_values)):\n",
    "        if ([predicted_values[i]] == actual_values[i]):\n",
    "            correct_values += 1\n",
    "    return correct_values"
   ]
  },
  {
   "cell_type": "code",
   "execution_count": 181,
   "metadata": {},
   "outputs": [
    {
     "name": "stdout",
     "output_type": "stream",
     "text": [
      "The number of correct predictions is 104\n"
     ]
    }
   ],
   "source": [
    "correct_values = get_correct_predictions(y_pred, y_test)\n",
    "\n",
    "print(f'The number of correct predictions is {correct_values}')"
   ]
  },
  {
   "cell_type": "code",
   "execution_count": 223,
   "metadata": {},
   "outputs": [],
   "source": [
    "k_values = list(range(1, 21))\n",
    "\n",
    "def get_result(x_train, y_train, x_test, k_values):\n",
    "    results = []\n",
    "    \n",
    "    for k_value in k_values:\n",
    "        \n",
    "        classifier = KNeighborsClassifier(k_value)\n",
    "        classifier.fit(x_train, y_train)\n",
    "        y_pred = classifier.predict(normal_x_test)\n",
    "        \n",
    "        results.append(get_accuracy(classification_report(y_test, y_pred)))\n",
    "        \n",
    "    return results"
   ]
  },
  {
   "cell_type": "code",
   "execution_count": 225,
   "metadata": {},
   "outputs": [
    {
     "data": {
      "image/png": "[encoded data removed]",
      "text/plain": [
       "<Figure size 432x288 with 1 Axes>"
      ]
     },
     "metadata": {
      "needs_background": "light"
     },
     "output_type": "display_data"
    }
   ],
   "source": [
    "results = get_result(normal_x_train, y_train, normal_x_test, k_values)\n",
    "plt.plot(k_values, results)\n",
    "plt.xlabel(\"K Values\")\n",
    "plt.ylabel(\"Accuracy\")\n",
    "plt.show()"
   ]
  },
  {
   "cell_type": "markdown",
   "metadata": {},
   "source": [
    "The above graph shows the plot between different values of k and the accuracy obtained when that value of k was used in the kNN classifier."
   ]
  }
 ],
 "metadata": {
  "kernelspec": {
   "display_name": "Python 3",
   "language": "python",
   "name": "python3"
  },
  "language_info": {
   "codemirror_mode": {
    "name": "ipython",
    "version": 3
   },
   "file_extension": ".py",
   "mimetype": "text/x-python",
   "name": "python",
   "nbconvert_exporter": "python",
   "pygments_lexer": "ipython3",
   "version": "3.7.3"
  }
 },
 "nbformat": 4,
 "nbformat_minor": 2
}
