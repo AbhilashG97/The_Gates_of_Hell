{
  "nbformat": 4,
  "nbformat_minor": 0,
  "metadata": {
    "colab": {
      "name": "Clustering",
      "provenance": [],
      "private_outputs": true,
      "collapsed_sections": []
    },
    "kernelspec": {
      "name": "python3",
      "display_name": "Python 3"
    }
  },
  "cells": [
    {
      "cell_type": "markdown",
      "metadata": {
        "id": "WaWUJN34Sbey",
        "colab_type": "text"
      },
      "source": [
        "# K Means Clustering"
      ]
    },
    {
      "cell_type": "markdown",
      "metadata": {
        "id": "0ZdzCUnOU3Ac",
        "colab_type": "text"
      },
      "source": [
        "## Imports for K-Means Clustering"
      ]
    },
    {
      "cell_type": "code",
      "metadata": {
        "id": "YODa38EcU8MS",
        "colab_type": "code",
        "colab": {}
      },
      "source": [
        "from sklearn.datasets.samples_generator import make_blobs\n",
        "import pandas as pd\n",
        "import numpy as np\n",
        "import matplotlib.pyplot as plt\n",
        "from sklearn.cluster import KMeans\n",
        "import math\n",
        "from yellowbrick.cluster import KElbowVisualizer"
      ],
      "execution_count": 0,
      "outputs": []
    },
    {
      "cell_type": "markdown",
      "metadata": {
        "id": "hVGVzDxE8hBm",
        "colab_type": "text"
      },
      "source": [
        "A [good resource](https://machinelearningmastery.com/generate-test-datasets-python-scikit-learn/) to learn how to create mock datasets "
      ]
    },
    {
      "cell_type": "code",
      "metadata": {
        "id": "4_gkWKSRVH1Z",
        "colab_type": "code",
        "colab": {}
      },
      "source": [
        "X, y = make_blobs(n_samples=100, centers=2, n_features=2, )"
      ],
      "execution_count": 0,
      "outputs": []
    },
    {
      "cell_type": "code",
      "metadata": {
        "id": "-Cot60xpVeeF",
        "colab_type": "code",
        "colab": {}
      },
      "source": [
        "data = pd.DataFrame(dict(x=X[:, 0], y=X[:,1], label=y))\n",
        "data.head()"
      ],
      "execution_count": 0,
      "outputs": []
    },
    {
      "cell_type": "code",
      "metadata": {
        "id": "w_wU09ZPXuIk",
        "colab_type": "code",
        "colab": {}
      },
      "source": [
        "col = data.label.map({0:'g', 1:'r'}) \n",
        "data.plot.scatter(x='x', y='y', c=col)\n",
        "plt.xlabel('X')\n",
        "plt.ylabel('Y')\n",
        "plt.show()"
      ],
      "execution_count": 0,
      "outputs": []
    },
    {
      "cell_type": "code",
      "metadata": {
        "id": "A52sUZGGY8S8",
        "colab_type": "code",
        "colab": {}
      },
      "source": [
        "X = data[['x', 'y']]\n",
        "\n",
        "Kmean = KMeans(n_clusters=2) \n",
        "Kmean.fit(X)"
      ],
      "execution_count": 0,
      "outputs": []
    },
    {
      "cell_type": "code",
      "metadata": {
        "id": "yRb_BoQUdGUT",
        "colab_type": "code",
        "colab": {}
      },
      "source": [
        "cluster_centroids = Kmean.cluster_centers_\n",
        "print(f'The cluster centroid are :\\n{cluster_centroids[0], cluster_centroids[1]}')"
      ],
      "execution_count": 0,
      "outputs": []
    },
    {
      "cell_type": "code",
      "metadata": {
        "id": "o2smOWV8fARF",
        "colab_type": "code",
        "colab": {}
      },
      "source": [
        "X.head()"
      ],
      "execution_count": 0,
      "outputs": []
    },
    {
      "cell_type": "code",
      "metadata": {
        "id": "aL9Umcbl8z36",
        "colab_type": "code",
        "colab": {}
      },
      "source": [
        "def euclidean_distance(x1, y1, x2, y2):\n",
        "  return math.sqrt(pow((x2 - x1), 2) + pow((y2 - y1), 2))"
      ],
      "execution_count": 0,
      "outputs": []
    },
    {
      "cell_type": "code",
      "metadata": {
        "id": "hOL3vImYd-8q",
        "colab_type": "code",
        "colab": {}
      },
      "source": [
        "def compute_average_distance(data_points, centroids):\n",
        "\n",
        "  average_centroid_distance = []\n",
        "\n",
        "  for centroid in centroids:\n",
        "    print(centroid[0], centroid[1])\n",
        "    for point in data_points:\n",
        "      print(point)\n",
        "      # print(euclidean_distance(centroid[0], centroid[1], point[0], point[1]))\n",
        "\n",
        "  return average_centroid_distance  "
      ],
      "execution_count": 0,
      "outputs": []
    },
    {
      "cell_type": "code",
      "metadata": {
        "id": "0K_FSMdT_uJn",
        "colab_type": "code",
        "colab": {}
      },
      "source": [
        "print(f'The average distance of all the points is :\\n {compute_average_distance(X, cluster_centroids)}')"
      ],
      "execution_count": 0,
      "outputs": []
    },
    {
      "cell_type": "markdown",
      "metadata": {
        "id": "MozeXtDgVytt",
        "colab_type": "text"
      },
      "source": [
        "The below plot shows the centroid for the given dataset"
      ]
    },
    {
      "cell_type": "code",
      "metadata": {
        "id": "jj_rnJGuTsg5",
        "colab_type": "code",
        "colab": {}
      },
      "source": [
        "col = data.label.map({0:'g', 1:'r'}) \n",
        "data.plot.scatter(x='x', y='y', c=col)\n",
        "plt.scatter(cluster_centroids[0][0], cluster_centroids[0][1], s=200, c='y', marker='*')\n",
        "plt.scatter(cluster_centroids[1][0], cluster_centroids[1][1], s=200, c='b', marker='*')\n",
        "plt.xlabel('X')\n",
        "plt.ylabel('Y')\n",
        "plt.show()"
      ],
      "execution_count": 0,
      "outputs": []
    },
    {
      "cell_type": "code",
      "metadata": {
        "id": "g151y31OWA4h",
        "colab_type": "code",
        "colab": {}
      },
      "source": [
        "Kmeans_labels = Kmean.labels_\n",
        "Kmeans_labels"
      ],
      "execution_count": 0,
      "outputs": []
    },
    {
      "cell_type": "code",
      "metadata": {
        "id": "cRGt-H0GW14f",
        "colab_type": "code",
        "colab": {}
      },
      "source": [
        "sample_test=np.array([-3.0,-3.0])\n",
        "second_test=sample_test.reshape(1, -1)\n",
        "Kmean.predict(second_test)"
      ],
      "execution_count": 0,
      "outputs": []
    },
    {
      "cell_type": "markdown",
      "metadata": {
        "id": "FgEpvSs7Yy1w",
        "colab_type": "text"
      },
      "source": [
        "### Elbow Method Visualization\n"
      ]
    },
    {
      "cell_type": "code",
      "metadata": {
        "id": "uqpI7DVugJhy",
        "colab_type": "code",
        "colab": {}
      },
      "source": [
        "X, y = make_blobs(n_samples=1000, n_features=12, centers=8, random_state=42)\n",
        "\n",
        "# Instantiate the clustering model and visualizer\n",
        "visualizer = KElbowVisualizer(KMeans(), k=(4,12))"
      ],
      "execution_count": 0,
      "outputs": []
    },
    {
      "cell_type": "code",
      "metadata": {
        "id": "YVEkZHqOgLuq",
        "colab_type": "code",
        "colab": {}
      },
      "source": [
        "visualizer.fit(X)\n",
        "visualizer.show()  "
      ],
      "execution_count": 0,
      "outputs": []
    },
    {
      "cell_type": "markdown",
      "metadata": {
        "id": "eby3eQTbkWMG",
        "colab_type": "text"
      },
      "source": [
        "### Elbow Method Implementation"
      ]
    },
    {
      "cell_type": "code",
      "metadata": {
        "id": "ZoHx9dTDkbPp",
        "colab_type": "code",
        "colab": {}
      },
      "source": [
        "inertias = [] \n",
        "inertia_mapping = {}\n",
        "\n",
        "K = range(1,10) \n",
        "\n",
        "for k in K: \n",
        "\t#Building and fitting the model \n",
        "\tkmeanModel = KMeans(n_clusters=k).fit(X) \n",
        "\tkmeanModel.fit(X)\t \n",
        "\n",
        "\tinertias.append(kmeanModel.inertia_) \n",
        "  # map the value for each k with its inertia\n",
        "\tinertia_mapping[k] = kmeanModel.inertia_ "
      ],
      "execution_count": 0,
      "outputs": []
    },
    {
      "cell_type": "code",
      "metadata": {
        "id": "5esImESUkySX",
        "colab_type": "code",
        "colab": {}
      },
      "source": [
        "plt.plot(K, inertias, 'bx-') \n",
        "plt.xlabel('Values of K') \n",
        "plt.ylabel('Inertia') \n",
        "plt.title('The Elbow Method using Inertia') \n",
        "plt.show() "
      ],
      "execution_count": 0,
      "outputs": []
    },
    {
      "cell_type": "markdown",
      "metadata": {
        "id": "-Tqnev8WlU7v",
        "colab_type": "text"
      },
      "source": [
        "# K Mediod Clustering"
      ]
    },
    {
      "cell_type": "code",
      "metadata": {
        "id": "eLwkgoNflXX4",
        "colab_type": "code",
        "colab": {}
      },
      "source": [
        ""
      ],
      "execution_count": 0,
      "outputs": []
    }
  ]
}