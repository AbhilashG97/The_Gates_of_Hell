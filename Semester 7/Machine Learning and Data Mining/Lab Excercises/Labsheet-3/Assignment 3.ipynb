{
 "cells": [
  {
   "cell_type": "markdown",
   "metadata": {},
   "source": [
    "# Assignment 3"
   ]
  },
  {
   "cell_type": "markdown",
   "metadata": {},
   "source": [
    "## PART A : Prerequisite for linear regression implementation"
   ]
  },
  {
   "cell_type": "code",
   "execution_count": 2,
   "metadata": {},
   "outputs": [],
   "source": [
    "import numpy as np\n",
    "import pandas as pd\n",
    "import matplotlib.pyplot as plt"
   ]
  },
  {
   "cell_type": "code",
   "execution_count": 3,
   "metadata": {},
   "outputs": [
    {
     "name": "stdout",
     "output_type": "stream",
     "text": [
      "X : [1 1 2 3 4 3 4 6 4]\n",
      "Y: [1 1 2 2 3 2 3 4 3]\n"
     ]
    },
    {
     "data": {
      "image/png": "[encoded data removed]",
      "text/plain": [
       "<Figure size 432x288 with 1 Axes>"
      ]
     },
     "metadata": {
      "needs_background": "light"
     },
     "output_type": "display_data"
    }
   ],
   "source": [
    "x = np.array([1, 1, 2, 3, 4, 3, 4, 6, 4])\n",
    "t0 = 1.2\n",
    "t1 = 0.5\n",
    "\n",
    "y = np.empty(9, dtype = int)\n",
    "\n",
    "for i in range(0, len(x)):\n",
    "    y[i] = t0 + t1*x[i]\n",
    "    \n",
    "print(f'X : {x}\\nY: {y}')\n",
    "\n",
    "plt.plot(x, y, 'ro')\n",
    "plt.xlabel('Input Array')\n",
    "plt.ylabel('h(x)')\n",
    "plt.show()\n",
    "\n",
    "def calculate_hypothesis(x, t1):\n",
    "    return t1*x"
   ]
  },
  {
   "cell_type": "code",
   "execution_count": 11,
   "metadata": {},
   "outputs": [
    {
     "name": "stdout",
     "output_type": "stream",
     "text": [
      "The dot product of [1 1 2 3 4 3 4 6 4] and [2.  1.  0.5 1.  3.  3.  2.  5.  4. ] is 82.0\n"
     ]
    },
    {
     "data": {
      "image/png": "[encoded data removed]",
      "text/plain": [
       "<Figure size 432x288 with 1 Axes>"
      ]
     },
     "metadata": {
      "needs_background": "light"
     },
     "output_type": "display_data"
    }
   ],
   "source": [
    "A = np.array([1, 1, 2, 3, 4, 3, 4, 6, 4])\n",
    "B = np.array([2, 1, 0.5, 1, 3, 3, 2, 5, 4])\n",
    "\n",
    "result = np.dot(A, B)\n",
    "print(f'The dot product of {A} and {B} is {result}')\n",
    "\n",
    "plt.plot(A, B, 'ro')\n",
    "plt.xlabel('A')\n",
    "plt.ylabel('B')\n",
    "plt.show()"
   ]
  },
  {
   "cell_type": "code",
   "execution_count": 5,
   "metadata": {},
   "outputs": [
    {
     "name": "stdout",
     "output_type": "stream",
     "text": [
      "The Mean Squared Error of A and B is 1.4722222222222223\n"
     ]
    }
   ],
   "source": [
    "from sklearn.metrics import mean_squared_error\n",
    "MSE = mean_squared_error(A, B)\n",
    "\n",
    "print(f'The Mean Squared Error of A and B is {MSE}')"
   ]
  },
  {
   "cell_type": "code",
   "execution_count": 6,
   "metadata": {},
   "outputs": [
    {
     "name": "stdout",
     "output_type": "stream",
     "text": [
      "Result :0.7916666666666666\n"
     ]
    }
   ],
   "source": [
    "def compute_cost_function(n, t1, A, B):\n",
    "    result = 0\n",
    "    for i in range(0, n):\n",
    "        result += pow((calculate_hypothesis(A[i], t1) - B[i]), 2)\n",
    "    return result/(2*n)\n",
    "\n",
    "print(f'Result :{compute_cost_function(9, 0.5, A, B)}')"
   ]
  },
  {
   "cell_type": "code",
   "execution_count": 7,
   "metadata": {},
   "outputs": [
    {
     "name": "stdout",
     "output_type": "stream",
     "text": [
      "Result :[1 1 2 2 3 2 3 4 3]\n"
     ]
    }
   ],
   "source": [
    "def compute_modified_cost_function(n, t1, A, B):\n",
    "    y = np.empty(len(t1), dtype = float)\n",
    "    for j in range(0, len(t1)):\n",
    "        result = 0\n",
    "        for i in range(0, n):\n",
    "            result += pow((calculate_hypothesis(A[i], t1[j]) - B[i]), 2)\n",
    "        y[j] = result/(2*n)\n",
    "    return y\n",
    "\n",
    "t1 = [0.1, 0.3, 0.5, 0.7, 0.8]\n",
    "\n",
    "result = np.empty(len(t1), dtype = int)\n",
    "result = compute_modified_cost_function(9, t1, A, B)\n",
    "    \n",
    "print(f'Result :{y}')"
   ]
  },
  {
   "cell_type": "code",
   "execution_count": 8,
   "metadata": {},
   "outputs": [
    {
     "data": {
      "image/png": "[encoded data removed]",
      "text/plain": [
       "<Figure size 432x288 with 1 Axes>"
      ]
     },
     "metadata": {
      "needs_background": "light"
     },
     "output_type": "display_data"
    }
   ],
   "source": [
    "plt.plot(t1, result)\n",
    "plt.xlabel('t1')\n",
    "plt.ylabel('J(t1)')\n",
    "plt.show()"
   ]
  },
  {
   "cell_type": "markdown",
   "metadata": {},
   "source": [
    "## PART B : Linear Regression Implementation"
   ]
  },
  {
   "cell_type": "code",
   "execution_count": 12,
   "metadata": {},
   "outputs": [
    {
     "name": "stdout",
     "output_type": "stream",
     "text": [
      "(25, 2)\n",
      "   Hours  Scores\n",
      "0    2.5      21\n",
      "1    5.1      47\n",
      "2    3.2      27\n",
      "3    8.5      75\n",
      "4    3.5      30\n"
     ]
    },
    {
     "data": {
      "image/png": "[encoded data removed]",
      "text/plain": [
       "<Figure size 432x288 with 1 Axes>"
      ]
     },
     "metadata": {
      "needs_background": "light"
     },
     "output_type": "display_data"
    }
   ],
   "source": [
    "data = pd.read_csv('student_scores.csv')\n",
    "\n",
    "print(data.shape)\n",
    "print(data.head())\n",
    "\n",
    "hours = data['Hours']\n",
    "scores = data['Scores']\n",
    "\n",
    "plt.plot(hours, scores, 'ro')\n",
    "plt.xlabel('Hours')\n",
    "plt.ylabel('Scores')\n",
    "plt.show()"
   ]
  },
  {
   "cell_type": "code",
   "execution_count": 10,
   "metadata": {},
   "outputs": [
    {
     "ename": "SyntaxError",
     "evalue": "invalid syntax (<ipython-input-10-acbd3518919c>, line 1)",
     "output_type": "error",
     "traceback": [
      "\u001b[1;36m  File \u001b[1;32m\"<ipython-input-10-acbd3518919c>\"\u001b[1;36m, line \u001b[1;32m1\u001b[0m\n\u001b[1;33m    def gradient_descent(alpha, x, y max_iter=1500):\u001b[0m\n\u001b[1;37m                                            ^\u001b[0m\n\u001b[1;31mSyntaxError\u001b[0m\u001b[1;31m:\u001b[0m invalid syntax\n"
     ]
    }
   ],
   "source": [
    "def gradient_descent(alpha, x, y max_iter=1500):\n",
    "    while(max_iter-- > 0):\n",
    "        "
   ]
  }
 ],
 "metadata": {
  "kernelspec": {
   "display_name": "Python 3",
   "language": "python",
   "name": "python3"
  },
  "language_info": {
   "codemirror_mode": {
    "name": "ipython",
    "version": 3
   },
   "file_extension": ".py",
   "mimetype": "text/x-python",
   "name": "python",
   "nbconvert_exporter": "python",
   "pygments_lexer": "ipython3",
   "version": "3.7.3"
  }
 },
 "nbformat": 4,
 "nbformat_minor": 2
}
