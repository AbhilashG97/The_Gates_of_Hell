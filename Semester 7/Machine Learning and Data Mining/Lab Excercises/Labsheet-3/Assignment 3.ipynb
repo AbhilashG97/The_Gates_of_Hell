{
 "cells": [
  {
   "cell_type": "markdown",
   "metadata": {},
   "source": [
    "# Assignment 3"
   ]
  },
  {
   "cell_type": "markdown",
   "metadata": {},
   "source": [
    "## PART A : Prerequisite for linear regression implementation"
   ]
  },
  {
   "cell_type": "code",
   "execution_count": 1,
   "metadata": {},
   "outputs": [],
   "source": [
    "import numpy as np\n",
    "import pandas as pd\n",
    "import matplotlib.pyplot as plt"
   ]
  },
  {
   "cell_type": "code",
   "execution_count": 2,
   "metadata": {},
   "outputs": [
    {
     "name": "stdout",
     "output_type": "stream",
     "text": [
      "X : [1 1 2 3 4 3 4 6 4]\n",
      "Y: [1 1 2 2 3 2 3 4 3]\n"
     ]
    },
    {
     "data": {
      "image/png": "[encoded data removed]",
      "text/plain": [
       "<Figure size 432x288 with 1 Axes>"
      ]
     },
     "metadata": {
      "needs_background": "light"
     },
     "output_type": "display_data"
    }
   ],
   "source": [
    "x = np.array([1, 1, 2, 3, 4, 3, 4, 6, 4])\n",
    "t0 = 1.2\n",
    "t1 = 0.5\n",
    "\n",
    "y = np.empty(9, dtype = int)\n",
    "\n",
    "for i in range(0, len(x)):\n",
    "    y[i] = t0 + t1*x[i]\n",
    "    \n",
    "print(f'X : {x}\\nY: {y}')\n",
    "\n",
    "plt.plot(x, y, 'ro')\n",
    "plt.xlabel('Input Array')\n",
    "plt.ylabel('h(x)')\n",
    "plt.show()\n",
    "\n",
    "def calculate_hypothesis(x, t1):\n",
    "    return t1*x"
   ]
  },
  {
   "cell_type": "code",
   "execution_count": 3,
   "metadata": {},
   "outputs": [
    {
     "name": "stdout",
     "output_type": "stream",
     "text": [
      "The dot product of [1 1 2 3 4 3 4 6 4] and [2.  1.  0.5 1.  3.  3.  2.  5.  4. ] is 82.0\n"
     ]
    },
    {
     "data": {
      "image/png": "[encoded data removed]",
      "text/plain": [
       "<Figure size 432x288 with 1 Axes>"
      ]
     },
     "metadata": {
      "needs_background": "light"
     },
     "output_type": "display_data"
    }
   ],
   "source": [
    "A = np.array([1, 1, 2, 3, 4, 3, 4, 6, 4])\n",
    "B = np.array([2, 1, 0.5, 1, 3, 3, 2, 5, 4])\n",
    "\n",
    "result = np.dot(A, B)\n",
    "print(f'The dot product of {A} and {B} is {result}')\n",
    "\n",
    "plt.plot(A, B, 'ro')\n",
    "plt.xlabel('A')\n",
    "plt.ylabel('B')\n",
    "plt.show()"
   ]
  },
  {
   "cell_type": "code",
   "execution_count": 4,
   "metadata": {},
   "outputs": [
    {
     "name": "stdout",
     "output_type": "stream",
     "text": [
      "The Mean Squared Error of A and B is 1.4722222222222223\n"
     ]
    }
   ],
   "source": [
    "from sklearn.metrics import mean_squared_error\n",
    "MSE = mean_squared_error(A, B)\n",
    "\n",
    "print(f'The Mean Squared Error of A and B is {MSE}')"
   ]
  },
  {
   "cell_type": "code",
   "execution_count": 5,
   "metadata": {},
   "outputs": [
    {
     "name": "stdout",
     "output_type": "stream",
     "text": [
      "Result :0.7916666666666666\n"
     ]
    }
   ],
   "source": [
    "def compute_cost_function(n, t1, A, B):\n",
    "    result = 0\n",
    "    for i in range(0, n):\n",
    "        result += pow((calculate_hypothesis(A[i], t1) - B[i]), 2)\n",
    "    return result/(2*n)\n",
    "\n",
    "print(f'Result :{compute_cost_function(9, 0.5, A, B)}')"
   ]
  },
  {
   "cell_type": "code",
   "execution_count": 6,
   "metadata": {},
   "outputs": [
    {
     "name": "stdout",
     "output_type": "stream",
     "text": [
      "Result :[1 1 2 2 3 2 3 4 3]\n"
     ]
    }
   ],
   "source": [
    "def compute_modified_cost_function(n, t1, A, B):\n",
    "    y = np.empty(len(t1), dtype = float)\n",
    "    for j in range(0, len(t1)):\n",
    "        result = 0\n",
    "        for i in range(0, n):\n",
    "            result += pow((calculate_hypothesis(A[i], t1[j]) - B[i]), 2)\n",
    "        y[j] = result/(2*n)\n",
    "    return y\n",
    "\n",
    "t1 = [0.1, 0.3, 0.5, 0.7, 0.8]\n",
    "\n",
    "result = np.empty(len(t1), dtype = int)\n",
    "result = compute_modified_cost_function(9, t1, A, B)\n",
    "    \n",
    "print(f'Result :{y}')"
   ]
  },
  {
   "cell_type": "code",
   "execution_count": 7,
   "metadata": {},
   "outputs": [
    {
     "data": {
      "image/png": "[encoded data removed]",
      "text/plain": [
       "<Figure size 432x288 with 1 Axes>"
      ]
     },
     "metadata": {
      "needs_background": "light"
     },
     "output_type": "display_data"
    }
   ],
   "source": [
    "plt.plot(t1, result)\n",
    "plt.xlabel('t1')\n",
    "plt.ylabel('J(t1)')\n",
    "plt.show()"
   ]
  },
  {
   "cell_type": "markdown",
   "metadata": {},
   "source": [
    "## PART B : Linear Regression Implementation"
   ]
  },
  {
   "cell_type": "code",
   "execution_count": 8,
   "metadata": {},
   "outputs": [
    {
     "name": "stdout",
     "output_type": "stream",
     "text": [
      "(25, 2)\n",
      "   Hours  Scores\n",
      "0    2.5      21\n",
      "1    5.1      47\n",
      "2    3.2      27\n",
      "3    8.5      75\n",
      "4    3.5      30\n"
     ]
    },
    {
     "data": {
      "image/png": "[encoded data removed]",
      "text/plain": [
       "<Figure size 432x288 with 1 Axes>"
      ]
     },
     "metadata": {
      "needs_background": "light"
     },
     "output_type": "display_data"
    }
   ],
   "source": [
    "data = pd.read_csv('student_scores.csv')\n",
    "\n",
    "print(data.shape)\n",
    "print(data.head())\n",
    "\n",
    "hours = data['Hours']\n",
    "scores = data['Scores']\n",
    "\n",
    "plt.plot(hours, scores, 'ro')\n",
    "plt.xlabel('Hours')\n",
    "plt.ylabel('Scores')\n",
    "plt.show()"
   ]
  },
  {
   "cell_type": "code",
   "execution_count": 9,
   "metadata": {},
   "outputs": [],
   "source": [
    "def calculate_hypothesis(theta0, theta1, x):\n",
    "    return theta0 + theta1*x"
   ]
  },
  {
   "cell_type": "code",
   "execution_count": 10,
   "metadata": {},
   "outputs": [],
   "source": [
    "def gradient_descent(alpha, x, y, max_iter=1500):\n",
    "    \n",
    "    iter = 0\n",
    "    \n",
    "    theta = np.empty(len(y), dtype=np.float64)\n",
    "    theta0 = 0\n",
    "    theta1 = 0\n",
    "    \n",
    "    deriv0 = 0\n",
    "    deriv1 = 0\n",
    "    \n",
    "    while(iter < max_iter):\n",
    "        for i in range(0, len(x)):\n",
    "            deriv0 += (calculate_hypothesis(theta0, theta1, x[i]) - y[i])\n",
    "            \n",
    "        temp0 = round(theta0 - (alpha*deriv0)/len(x))\n",
    "        \n",
    "        for i in range(0, len(x)):\n",
    "            deriv1 += (calculate_hypothesis(theta0, theta1, x[i]) - y[i])*x[i]\n",
    "            \n",
    "        temp1 = round(theta1 - (alpha*deriv1)/len(x))\n",
    "            \n",
    "        theta0 = temp0\n",
    "        theta1 = temp1\n",
    "        \n",
    "        theta[0] = theta0\n",
    "        theta[1] = theta1\n",
    "        \n",
    "        iter+=1\n",
    "        \n",
    "    return theta"
   ]
  },
  {
   "cell_type": "code",
   "execution_count": 11,
   "metadata": {},
   "outputs": [
    {
     "name": "stdout",
     "output_type": "stream",
     "text": [
      "Theta0 : 5.0\n",
      "Theta1 : 8.0\n"
     ]
    },
    {
     "data": {
      "image/png": "[encoded data removed]",
      "text/plain": [
       "<Figure size 432x288 with 1 Axes>"
      ]
     },
     "metadata": {
      "needs_background": "light"
     },
     "output_type": "display_data"
    },
    {
     "name": "stdout",
     "output_type": "stream",
     "text": [
      "------------------------------------------\n",
      "Theta0 : -0.0\n",
      "Theta1 : 16.0\n"
     ]
    },
    {
     "data": {
      "image/png": "[encoded data removed]",
      "text/plain": [
       "<Figure size 432x288 with 1 Axes>"
      ]
     },
     "metadata": {
      "needs_background": "light"
     },
     "output_type": "display_data"
    }
   ],
   "source": [
    "theta = gradient_descent(0.01, hours, scores, 1500)\n",
    "\n",
    "print(f'Theta0 : {theta[0]}\\nTheta1 : {theta[1]}')\n",
    "\n",
    "plt.plot(hours, scores, 'ro')\n",
    "plt.xlabel('Hours')\n",
    "plt.ylabel('Scores')\n",
    "plt.title('When Alpha is equal to 0.01')\n",
    "y_pred = theta[0] + theta[1]*hours # predicted data\n",
    "plt.plot(hours, y_pred, '-b')\n",
    "plt.show()\n",
    "\n",
    "print('------------------------------------------')\n",
    "\n",
    "theta = gradient_descent(0.0001, hours, scores, 1500)\n",
    "\n",
    "print(f'Theta0 : {theta[0]}\\nTheta1 : {theta[1]}')\n",
    "\n",
    "plt.plot(hours, scores, 'ro')\n",
    "plt.xlabel('Hours')\n",
    "plt.ylabel('Scores')\n",
    "plt.title('When Alpha is equal to 0.0001')\n",
    "y_pred = theta[0] + theta[1]*hours # predicted data\n",
    "\n",
    "plt.plot(hours, y_pred, '-b')\n",
    "\n",
    "plt.show()"
   ]
  },
  {
   "cell_type": "code",
   "execution_count": 12,
   "metadata": {},
   "outputs": [],
   "source": [
    "from sklearn.model_selection import train_test_split \n",
    "from sklearn.linear_model import LinearRegression"
   ]
  },
  {
   "cell_type": "code",
   "execution_count": 22,
   "metadata": {},
   "outputs": [
    {
     "data": {
      "text/html": [
       "<div>\n",
       "<style scoped>\n",
       "    .dataframe tbody tr th:only-of-type {\n",
       "        vertical-align: middle;\n",
       "    }\n",
       "\n",
       "    .dataframe tbody tr th {\n",
       "        vertical-align: top;\n",
       "    }\n",
       "\n",
       "    .dataframe thead th {\n",
       "        text-align: right;\n",
       "    }\n",
       "</style>\n",
       "<table border=\"1\" class=\"dataframe\">\n",
       "  <thead>\n",
       "    <tr style=\"text-align: right;\">\n",
       "      <th></th>\n",
       "      <th>Actual</th>\n",
       "      <th>Predicted</th>\n",
       "    </tr>\n",
       "  </thead>\n",
       "  <tbody>\n",
       "    <tr>\n",
       "      <th>0</th>\n",
       "      <td>20</td>\n",
       "      <td>17.053665</td>\n",
       "    </tr>\n",
       "    <tr>\n",
       "      <th>1</th>\n",
       "      <td>27</td>\n",
       "      <td>33.694229</td>\n",
       "    </tr>\n",
       "    <tr>\n",
       "      <th>2</th>\n",
       "      <td>69</td>\n",
       "      <td>74.806209</td>\n",
       "    </tr>\n",
       "    <tr>\n",
       "      <th>3</th>\n",
       "      <td>30</td>\n",
       "      <td>26.842232</td>\n",
       "    </tr>\n",
       "    <tr>\n",
       "      <th>4</th>\n",
       "      <td>62</td>\n",
       "      <td>60.123359</td>\n",
       "    </tr>\n",
       "    <tr>\n",
       "      <th>5</th>\n",
       "      <td>35</td>\n",
       "      <td>39.567369</td>\n",
       "    </tr>\n",
       "    <tr>\n",
       "      <th>6</th>\n",
       "      <td>24</td>\n",
       "      <td>20.969092</td>\n",
       "    </tr>\n",
       "    <tr>\n",
       "      <th>7</th>\n",
       "      <td>86</td>\n",
       "      <td>78.721636</td>\n",
       "    </tr>\n",
       "  </tbody>\n",
       "</table>\n",
       "</div>"
      ],
      "text/plain": [
       "   Actual  Predicted\n",
       "0      20  17.053665\n",
       "1      27  33.694229\n",
       "2      69  74.806209\n",
       "3      30  26.842232\n",
       "4      62  60.123359\n",
       "5      35  39.567369\n",
       "6      24  20.969092\n",
       "7      86  78.721636"
      ]
     },
     "execution_count": 22,
     "metadata": {},
     "output_type": "execute_result"
    }
   ],
   "source": [
    "hours = hours.reshape(-1, 1)\n",
    "scores = scores.reshape(-1, 1)\n",
    "\n",
    "X_train, X_test, y_train, y_test = train_test_split(hours, scores, test_size=0.3, random_state=0)\n",
    "\n",
    "regressor = LinearRegression()  \n",
    "regressor.fit(X_train, y_train)\n",
    "y_pred = regressor.predict(X_test)\n",
    "\n",
    "df = pd.DataFrame({'Actual': y_test.flatten(), 'Predicted': y_pred.flatten()})\n",
    "df"
   ]
  },
  {
   "cell_type": "code",
   "execution_count": 20,
   "metadata": {},
   "outputs": [
    {
     "data": {
      "image/png": "[encoded data removed]",
      "text/plain": [
       "<Figure size 1152x720 with 1 Axes>"
      ]
     },
     "metadata": {
      "needs_background": "light"
     },
     "output_type": "display_data"
    }
   ],
   "source": [
    "df1 = df.head(25)\n",
    "df1.plot(kind='bar',figsize=(16,10))\n",
    "plt.grid(which='major', linestyle='-', linewidth='0.5', color='green')\n",
    "plt.grid(which='minor', linestyle=':', linewidth='0.5', color='black')\n",
    "plt.show()"
   ]
  },
  {
   "cell_type": "code",
   "execution_count": 21,
   "metadata": {},
   "outputs": [
    {
     "data": {
      "image/png": "[encoded data removed]",
      "text/plain": [
       "<Figure size 432x288 with 1 Axes>"
      ]
     },
     "metadata": {
      "needs_background": "light"
     },
     "output_type": "display_data"
    }
   ],
   "source": [
    "plt.scatter(X_test, y_test,  color='gray')\n",
    "plt.plot(X_test, y_pred, color='red', linewidth=2)\n",
    "plt.show()"
   ]
  },
  {
   "cell_type": "markdown",
   "metadata": {},
   "source": [
    "## Part C : Multivariate Linear Regression"
   ]
  },
  {
   "cell_type": "code",
   "execution_count": 23,
   "metadata": {},
   "outputs": [
    {
     "name": "stdout",
     "output_type": "stream",
     "text": [
      "(48, 5)\n",
      "   Petrol_tax  Average_income  Paved_Highways  Population_Driver_licence(%)  \\\n",
      "0         9.0            3571            1976                         0.525   \n",
      "1         9.0            4092            1250                         0.572   \n",
      "2         9.0            3865            1586                         0.580   \n",
      "3         7.5            4870            2351                         0.529   \n",
      "4         8.0            4399             431                         0.544   \n",
      "\n",
      "   Petrol_Consumption  \n",
      "0                 541  \n",
      "1                 524  \n",
      "2                 561  \n",
      "3                 414  \n",
      "4                 410  \n"
     ]
    }
   ],
   "source": [
    "data = pd.read_csv('petrol_consumption.csv')\n",
    "\n",
    "print(data.shape)\n",
    "print(data.head())"
   ]
  },
  {
   "cell_type": "code",
   "execution_count": 61,
   "metadata": {},
   "outputs": [
    {
     "name": "stdout",
     "output_type": "stream",
     "text": [
      "   Petrol_tax  Average_income  Paved_Highways  Population_Driver_licence(%)\n",
      "0         9.0            3571            1976                         0.525\n",
      "1         9.0            4092            1250                         0.572\n",
      "2         9.0            3865            1586                         0.580\n",
      "3         7.5            4870            2351                         0.529\n",
      "4         8.0            4399             431                         0.544\n",
      "(48, 4)\n",
      "\n",
      "0    541\n",
      "1    524\n",
      "2    561\n",
      "3    414\n",
      "4    410\n",
      "Name: Petrol_Consumption, dtype: int64\n",
      "(48,)\n"
     ]
    }
   ],
   "source": [
    "X = data.iloc[:, 0:4] #taking first 4 columns as feature vectors\n",
    "print(X.head())\n",
    "print(X.shape)\n",
    "print()\n",
    "\n",
    "Y = data['Petrol_Consumption'] #last column is taken as the output\n",
    "print(Y.head())\n",
    "print(Y.shape)"
   ]
  },
  {
   "cell_type": "code",
   "execution_count": 62,
   "metadata": {},
   "outputs": [],
   "source": [
    "X_train, X_test, y_train, y_test = train_test_split(X, Y, test_size=0.3, random_state=0)"
   ]
  },
  {
   "cell_type": "code",
   "execution_count": 63,
   "metadata": {},
   "outputs": [],
   "source": [
    "regressor = LinearRegression()  \n",
    "regressor.fit(X_train, y_train)\n",
    "\n",
    "y_pred = regressor.predict(X_test) # predicted value"
   ]
  },
  {
   "cell_type": "code",
   "execution_count": 67,
   "metadata": {},
   "outputs": [
    {
     "data": {
      "text/html": [
       "<div>\n",
       "<style scoped>\n",
       "    .dataframe tbody tr th:only-of-type {\n",
       "        vertical-align: middle;\n",
       "    }\n",
       "\n",
       "    .dataframe tbody tr th {\n",
       "        vertical-align: top;\n",
       "    }\n",
       "\n",
       "    .dataframe thead th {\n",
       "        text-align: right;\n",
       "    }\n",
       "</style>\n",
       "<table border=\"1\" class=\"dataframe\">\n",
       "  <thead>\n",
       "    <tr style=\"text-align: right;\">\n",
       "      <th></th>\n",
       "      <th>Actual</th>\n",
       "      <th>Predicted</th>\n",
       "    </tr>\n",
       "  </thead>\n",
       "  <tbody>\n",
       "    <tr>\n",
       "      <th>29</th>\n",
       "      <td>534</td>\n",
       "      <td>468.315946</td>\n",
       "    </tr>\n",
       "    <tr>\n",
       "      <th>4</th>\n",
       "      <td>410</td>\n",
       "      <td>550.397078</td>\n",
       "    </tr>\n",
       "    <tr>\n",
       "      <th>26</th>\n",
       "      <td>577</td>\n",
       "      <td>590.639321</td>\n",
       "    </tr>\n",
       "    <tr>\n",
       "      <th>30</th>\n",
       "      <td>571</td>\n",
       "      <td>572.176794</td>\n",
       "    </tr>\n",
       "    <tr>\n",
       "      <th>32</th>\n",
       "      <td>577</td>\n",
       "      <td>649.893941</td>\n",
       "    </tr>\n",
       "    <tr>\n",
       "      <th>37</th>\n",
       "      <td>704</td>\n",
       "      <td>648.443789</td>\n",
       "    </tr>\n",
       "    <tr>\n",
       "      <th>34</th>\n",
       "      <td>487</td>\n",
       "      <td>515.198650</td>\n",
       "    </tr>\n",
       "    <tr>\n",
       "      <th>40</th>\n",
       "      <td>587</td>\n",
       "      <td>674.764637</td>\n",
       "    </tr>\n",
       "    <tr>\n",
       "      <th>7</th>\n",
       "      <td>467</td>\n",
       "      <td>503.476378</td>\n",
       "    </tr>\n",
       "    <tr>\n",
       "      <th>10</th>\n",
       "      <td>580</td>\n",
       "      <td>500.073610</td>\n",
       "    </tr>\n",
       "    <tr>\n",
       "      <th>11</th>\n",
       "      <td>471</td>\n",
       "      <td>417.315045</td>\n",
       "    </tr>\n",
       "    <tr>\n",
       "      <th>31</th>\n",
       "      <td>554</td>\n",
       "      <td>587.996148</td>\n",
       "    </tr>\n",
       "    <tr>\n",
       "      <th>33</th>\n",
       "      <td>628</td>\n",
       "      <td>624.508204</td>\n",
       "    </tr>\n",
       "    <tr>\n",
       "      <th>27</th>\n",
       "      <td>631</td>\n",
       "      <td>605.300526</td>\n",
       "    </tr>\n",
       "    <tr>\n",
       "      <th>47</th>\n",
       "      <td>524</td>\n",
       "      <td>563.470521</td>\n",
       "    </tr>\n",
       "  </tbody>\n",
       "</table>\n",
       "</div>"
      ],
      "text/plain": [
       "    Actual   Predicted\n",
       "29     534  468.315946\n",
       "4      410  550.397078\n",
       "26     577  590.639321\n",
       "30     571  572.176794\n",
       "32     577  649.893941\n",
       "37     704  648.443789\n",
       "34     487  515.198650\n",
       "40     587  674.764637\n",
       "7      467  503.476378\n",
       "10     580  500.073610\n",
       "11     471  417.315045\n",
       "31     554  587.996148\n",
       "33     628  624.508204\n",
       "27     631  605.300526\n",
       "47     524  563.470521"
      ]
     },
     "execution_count": 67,
     "metadata": {},
     "output_type": "execute_result"
    }
   ],
   "source": [
    "df_petrol_consumption = pd.DataFrame({'Actual': y_test, 'Predicted': y_pred})\n",
    "df_petrol_consumption"
   ]
  },
  {
   "cell_type": "code",
   "execution_count": 68,
   "metadata": {},
   "outputs": [
    {
     "data": {
      "image/png": "[encoded data removed]",
      "text/plain": [
       "<Figure size 1152x720 with 1 Axes>"
      ]
     },
     "metadata": {
      "needs_background": "light"
     },
     "output_type": "display_data"
    }
   ],
   "source": [
    "df2 = df_petrol_consumption.head(25)\n",
    "df2.plot(kind='bar',figsize=(16,10))\n",
    "plt.grid(which='major', linestyle='-', linewidth='0.5', color='green')\n",
    "plt.grid(which='minor', linestyle=':', linewidth='0.5', color='black')\n",
    "plt.show()"
   ]
  }
 ],
 "metadata": {
  "kernelspec": {
   "display_name": "Python 3",
   "language": "python",
   "name": "python3"
  },
  "language_info": {
   "codemirror_mode": {
    "name": "ipython",
    "version": 3
   },
   "file_extension": ".py",
   "mimetype": "text/x-python",
   "name": "python",
   "nbconvert_exporter": "python",
   "pygments_lexer": "ipython3",
   "version": "3.7.3"
  }
 },
 "nbformat": 4,
 "nbformat_minor": 2
}
